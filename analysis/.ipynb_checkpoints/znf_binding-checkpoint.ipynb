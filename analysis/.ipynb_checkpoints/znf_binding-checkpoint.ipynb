{
 "cells": [
  {
   "cell_type": "code",
   "execution_count": 22,
   "id": "e8004734-a266-4dc9-b242-1cd462927a2b",
   "metadata": {},
   "outputs": [],
   "source": [
    "import pybedtools as pbt\n",
    "import matplotlib.pyplot as plt\n",
    "import seaborn as sns\n",
    "import pandas as pd\n",
    "from scipy import stats\n",
    "import treeswift as ts\n",
    "from Bio import SeqIO, Seq, motifs\n",
    "from Bio.Blast.Applications import NcbiblastnCommandline\n",
    "import re\n",
    "import logomaker\n",
    "from collections import defaultdict\n",
    "import numpy as np\n",
    "from os.path import exists\n",
    "import os"
   ]
  },
  {
   "cell_type": "code",
   "execution_count": 3,
   "id": "6bd1857e-f9aa-4dcd-989d-12cc86ad7918",
   "metadata": {},
   "outputs": [
    {
     "name": "stdout",
     "output_type": "stream",
     "text": [
      "                 species  scaffold_n50 assembly_status         genus  \\\n",
      "0     Abisara_bifasciata           464          Contig       Abisara   \n",
      "1   Abrostola_tripartita      13645312      Chromosome     Abrostola   \n",
      "2  Abscondita_terminalis       1220005        Scaffold    Abscondita   \n",
      "3     Acanthaster_planci       1521119        Scaffold   Acanthaster   \n",
      "4   Acanthisitta_chloris         64469        Scaffold  Acanthisitta   \n",
      "\n",
      "        taxonomy  \n",
      "0          Other  \n",
      "1     Arthropoda  \n",
      "2     Arthropoda  \n",
      "3  Echinodermata  \n",
      "4       Chordata  \n"
     ]
    }
   ],
   "source": [
    "taxdict = {}\n",
    "taxonomy_tree = ts.read_tree_newick('../data/metazoan_taxonomy.nwk')\n",
    "tax_groups = ['Ctenophora', \n",
    "             'Hemichordata', \n",
    "             'Bryozoa', \n",
    "             'Rotifera', \n",
    "             'Chordata', \n",
    "             'Echinodermata', \n",
    "             'Arthropoda', \n",
    "             'Mollusca', \n",
    "             'Annelida', \n",
    "             'Nematoda', \n",
    "             'Platyhelminthes',\n",
    "             'Cnidaria']\n",
    "\n",
    "for tax in tax_groups:\n",
    "    for node in taxonomy_tree.root.traverse_bfs():\n",
    "        if node[0].label.strip(\"'\") == tax:\n",
    "            for i in node[0].traverse_leaves():\n",
    "                taxdict[i.label.strip(\"'\").replace(' ', '_')] = tax \n",
    "                \n",
    "\n",
    "metadata_df = pd.read_csv('../data/parsed_metazoans.out', \n",
    "                          sep='\\t', \n",
    "                          header=None, \n",
    "                          names=['species', 'genome', 'ftpdir', 'scaffold_n50', 'assembly_status']) \\\n",
    "                .drop(['ftpdir', 'genome'], axis=1)\n",
    "metadata_df['genus'] = metadata_df['species'].apply(lambda x: x.split('_')[0])\n",
    "metadata_df['taxonomy'] = metadata_df.species.apply(lambda x: taxdict.get(x, 'Other'))\n",
    "print(metadata_df.head())"
   ]
  },
  {
   "cell_type": "code",
   "execution_count": 4,
   "id": "690cb36c-b8f3-4f5a-83f3-448c18c53d98",
   "metadata": {},
   "outputs": [],
   "source": [
    "def extract_znf(species):\n",
    "    znfs = []\n",
    "    for record in SeqIO.parse(f'../data/seqs/{species}_znfs.fa', 'fasta'):\n",
    "        seq = record.seq\n",
    "        trim = len(seq)%3\n",
    "        if trim == 0: \n",
    "            seq = str(seq.translate())\n",
    "        else:\n",
    "            seq = str(seq[:-trim].translate())        \n",
    "        znfs += re.findall('C..C.{12}H...H', seq)\n",
    "    return znfs\n",
    "\n",
    "def extract_footprints(species):\n",
    "    footprints = []\n",
    "    for record in SeqIO.parse(f'../data/seqs/{species}_znfs.fa', 'fasta'):\n",
    "        seq = record.seq\n",
    "        trim = len(seq)%3\n",
    "        if trim == 0: \n",
    "            seq = str(seq.translate())\n",
    "        else:\n",
    "            seq = str(seq[:-trim].translate())\n",
    "        footprints += re.findall('C..C.{12}H...H', seq)\n",
    "    footprints = [f'{i[9]}{i[11]}{i[12]}{i[15]}' for i in footprints]\n",
    "    return footprints\n",
    "\n",
    "def entropy(position):\n",
    "    return -sum(position.apply(lambda x: x*np.log2(x)))"
   ]
  },
  {
   "cell_type": "code",
   "execution_count": 5,
   "id": "e2281b0f-04a4-44fe-be84-976ee2ecbc61",
   "metadata": {},
   "outputs": [
    {
     "data": {
      "image/png": "[encoded data removed]",
      "text/plain": [
       "<Figure size 504x360 with 1 Axes>"
      ]
     },
     "metadata": {
      "needs_background": "light"
     },
     "output_type": "display_data"
    }
   ],
   "source": [
    "znfs = []\n",
    "for row in metadata_df.loc[metadata_df.taxonomy == 'Mollusca'].iterrows():\n",
    "    if row[1].scaffold_n50 >= 10000:\n",
    "        znfs += extract_znf(row[1].species)\n",
    "mat_df = logomaker.alignment_to_matrix(znfs, to_type='probability').T\n",
    "data = defaultdict(list)\n",
    "for col in mat_df.columns:\n",
    "    data['position'].append(col)\n",
    "    data['entropy'].append(entropy(mat_df[col]))\n",
    "    \n",
    "znf_df = pd.DataFrame(data)\n",
    "znf_df['pos_labels'] = ['C', 'X', 'X', 'C', 6, 5, 4, 3, 2, 1, -1, -2, -3, -4, -5, -6, 'H', 'X', 'X', 'X', 'H']\n",
    "znf_df['colours'] = ['deepskyblue', 'gainsboro', 'gainsboro', 'deepskyblue', \n",
    "                     'gainsboro', 'gainsboro', 'gainsboro', 'gainsboro', 'gainsboro', 'firebrick',\n",
    "                     'gainsboro', 'firebrick', 'firebrick', 'gainsboro', 'gainsboro', 'firebrick',\n",
    "                     'mediumturquoise', 'gainsboro', 'gainsboro', 'gainsboro', 'mediumturquoise'] \n",
    "\n",
    "fig, ax = plt.subplots(figsize=(7, 5))\n",
    "sns.barplot(data=znf_df, x='position', y='entropy', palette=znf_df.colours)\n",
    "ax.set_xlabel('')\n",
    "ax.set_ylabel('Shannon entropy (bits)')\n",
    "ax.set_xticklabels(znf_df.pos_labels)\n",
    "sns.despine()\n",
    "plt.show()\n"
   ]
  },
  {
   "cell_type": "code",
   "execution_count": 6,
   "id": "7922833f-f644-448d-8f65-99b1396f528c",
   "metadata": {},
   "outputs": [],
   "source": [
    "fp_freq = defaultdict(int)\n",
    "all_fps = extract_footprints('Danio_rerio')\n",
    "for fp in all_fps:\n",
    "    fp_freq[fp] += 1"
   ]
  },
  {
   "cell_type": "code",
   "execution_count": 35,
   "id": "41bcda45-2bf1-4145-890d-eef68ac201c1",
   "metadata": {},
   "outputs": [
    {
     "name": "stderr",
     "output_type": "stream",
     "text": [
      "IOPub data rate exceeded.\n",
      "The Jupyter server will temporarily stop sending output\n",
      "to the client in order to avoid crashing it.\n",
      "To change this limit, set the config variable\n",
      "`--ServerApp.iopub_data_rate_limit`.\n",
      "\n",
      "Current values:\n",
      "ServerApp.iopub_data_rate_limit=1000000.0 (bytes/sec)\n",
      "ServerApp.rate_limit_window=3.0 (secs)\n",
      "\n"
     ]
    }
   ],
   "source": [
    "def blast_species_znfs(species, tedb):\n",
    "    blastn_cline = NcbiblastnCommandline(query='../data/binding-predictions/Danio_rerio/Danio_rerio_binding_predictions.fa',\n",
    "                                         subject='/Users/jonwells/Genomes/RepBase/RepBase26.10.fasta/zebrep.ref',\n",
    "                                         task='blastn-short',\n",
    "                                         remote=False,\n",
    "                                         outfmt=6)\n",
    "    stdout, stderr = blastn_cline()\n",
    "    print(stderr)\n",
    "    print(stdout)\n",
    "blast_species_znfs('Danio_rerio', 'test')\n",
    "# for species in ['Homo_sapiens', 'Danio_rerio', 'Mus_musculus']:\n",
    "    \n",
    "#     for rec in SeqIO.parse(f'../data/binding-predictions/{species}/{species}_binding_predictions.fa', 'fasta'):\n",
    "#         print(rec)\n"
   ]
  },
  {
   "cell_type": "code",
   "execution_count": null,
   "id": "d8b448f8-76f8-43b0-b015-0a92cb6cdaa9",
   "metadata": {},
   "outputs": [],
   "source": []
  }
 ],
 "metadata": {
  "kernelspec": {
   "display_name": "Python 3",
   "language": "python",
   "name": "python3"
  },
  "language_info": {
   "codemirror_mode": {
    "name": "ipython",
    "version": 3
   },
   "file_extension": ".py",
   "mimetype": "text/x-python",
   "name": "python",
   "nbconvert_exporter": "python",
   "pygments_lexer": "ipython3",
   "version": "3.9.9"
  }
 },
 "nbformat": 4,
 "nbformat_minor": 5
}
